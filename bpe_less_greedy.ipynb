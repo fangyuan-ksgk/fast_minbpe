{
 "cells": [
  {
   "cell_type": "code",
   "execution_count": null,
   "metadata": {},
   "outputs": [],
   "source": [
    "from util.mytimeit import timeit\n",
    "from bpe_less_greedy import train_bpe_heuristic as train, tokenize, detokenize"
   ]
  },
  {
   "cell_type": "code",
   "execution_count": null,
   "metadata": {},
   "outputs": [],
   "source": [
    "def train_and_test(train, tokenize, detokenize, filename, vocab_size):\n",
    "    text = open(filename, \"r\", encoding=\"utf-8\").read()\n",
    "    merge_tree, vocab = timeit(lambda: train(text, vocab_size), 'Training')\n",
    "    print('Top 10 tokens:', [vocab[i].decode('utf-8') for i in range(256, 256 + 10)])\n",
    "    tokenized_text = timeit(lambda: tokenize(text, merge_tree, 2), 'Tokenization')\n",
    "    detokenized_text = timeit(lambda: detokenize(tokenized_text, vocab), 'Detokenize')\n",
    "    print(f'Tokenized text has {len(tokenized_text)} tokens ({100 * len(tokenized_text) / len(text.encode('utf-8')):.2f}% of original).')\n",
    "    assert detokenized_text == text\n",
    "    return tokenized_text, vocab"
   ]
  },
  {
   "cell_type": "code",
   "execution_count": null,
   "metadata": {},
   "outputs": [],
   "source": [
    "tokenized_text, vocab = train_and_test(train, tokenize, detokenize, r'data\\taylorswift.txt', 256 + 100)"
   ]
  },
  {
   "cell_type": "code",
   "execution_count": null,
   "metadata": {},
   "outputs": [],
   "source": [
    "from util.mytimeit import timeit\n",
    "import bpe\n",
    "def train_and_test(train, tokenize, detokenize, filename, vocab_size):\n",
    "    text = open(filename, \"r\", encoding=\"utf-8\").read()\n",
    "    merge_tree, vocab = timeit(lambda: train(text, vocab_size), 'Training')\n",
    "    print('Top 10 tokens:', [vocab[i].decode('utf-8') for i in range(256, 256 + 10)])\n",
    "    tokenized_text = timeit(lambda: tokenize(text, merge_tree), 'Tokenization')\n",
    "    detokenized_text = timeit(lambda: detokenize(tokenized_text, vocab), 'Detokenize')\n",
    "    print(f'Tokenized text has {len(tokenized_text)} tokens ({100 * len(tokenized_text) / len(text.encode('utf-8')):.2f}% of original).')\n",
    "    assert detokenized_text == text\n",
    "    return tokenized_text, vocab\n",
    "for vocab_size in [256 + 100]:\n",
    "    tokenized_text_bpe, vocab_bpe = train_and_test(bpe.train, bpe.tokenize, bpe.detokenize, r'data\\taylorswift.txt', vocab_size)"
   ]
  },
  {
   "cell_type": "code",
   "execution_count": null,
   "metadata": {},
   "outputs": [],
   "source": []
  }
 ],
 "metadata": {
  "kernelspec": {
   "display_name": ".venv",
   "language": "python",
   "name": "python3"
  },
  "language_info": {
   "codemirror_mode": {
    "name": "ipython",
    "version": 3
   },
   "file_extension": ".py",
   "mimetype": "text/x-python",
   "name": "python",
   "nbconvert_exporter": "python",
   "pygments_lexer": "ipython3",
   "version": "3.12.3"
  }
 },
 "nbformat": 4,
 "nbformat_minor": 2
}
