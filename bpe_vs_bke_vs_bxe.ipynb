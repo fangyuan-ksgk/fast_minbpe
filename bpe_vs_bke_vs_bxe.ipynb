{
 "cells": [
  {
   "cell_type": "code",
   "execution_count": null,
   "metadata": {},
   "outputs": [],
   "source": [
    "from util.mytimeit import timeit\n",
    "import bpe, bke, bxe_with_score\n",
    "from functools import partial"
   ]
  },
  {
   "cell_type": "code",
   "execution_count": null,
   "metadata": {},
   "outputs": [],
   "source": [
    "def train_and_test(train, tokenize, detokenize, filename, vocab_size):\n",
    "    text = open(filename, \"r\", encoding=\"utf-8\").read()\n",
    "    merge_tree, vocab = timeit(lambda: train(text, vocab_size), 'Training')\n",
    "    print('Top 10 tokens:', [vocab[i].decode('utf-8') for i in range(256, 256 + 10)])\n",
    "    tokenized_text = timeit(lambda: tokenize(text, merge_tree), 'Tokenization')\n",
    "    detokenized_text = timeit(lambda: detokenize(tokenized_text, vocab), 'Detokenize')\n",
    "    print(f'Tokenized text has {len(tokenized_text)} tokens ({100 * len(tokenized_text) / len(text.encode('utf-8')):.2f}% of original).')\n",
    "    assert detokenized_text == text\n",
    "    return tokenized_text, vocab"
   ]
  },
  {
   "cell_type": "markdown",
   "metadata": {},
   "source": [
    "BPE"
   ]
  },
  {
   "cell_type": "code",
   "execution_count": null,
   "metadata": {},
   "outputs": [],
   "source": [
    "for vocab_size in [256 + 100]:\n",
    "    tokenized_text, vocab = train_and_test(bpe.train, bpe.tokenize, bpe.detokenize, r'data\\taylorswift.txt', vocab_size)"
   ]
  },
  {
   "cell_type": "markdown",
   "metadata": {},
   "source": [
    "BKE"
   ]
  },
  {
   "cell_type": "code",
   "execution_count": null,
   "metadata": {},
   "outputs": [],
   "source": [
    "for k in range(2, 10):\n",
    "    print('Testing k:', k)\n",
    "    train = partial(bke.train, k=k)\n",
    "    tokenize = partial(bke.tokenize, k=k)\n",
    "    for vocab_size in [256 + 100]:\n",
    "        tokenized_text, vocab = train_and_test(train, tokenize, bke.detokenize, r'data\\taylorswift.txt', vocab_size)"
   ]
  },
  {
   "cell_type": "markdown",
   "metadata": {},
   "source": [
    "BXE"
   ]
  },
  {
   "cell_type": "code",
   "execution_count": null,
   "metadata": {},
   "outputs": [],
   "source": [
    "for x in [5, 10, 20]:\n",
    "    print('Testing x:', x)\n",
    "    train = partial(bxe_with_score.train, x=x)\n",
    "    tokenize = partial(bxe_with_score.tokenize, x=x)\n",
    "    for vocab_size in [256 + 100]:\n",
    "        tokenized_text, vocab = train_and_test(train, tokenize, bxe_with_score.detokenize, r'data\\taylorswift.txt', vocab_size)"
   ]
  },
  {
   "cell_type": "markdown",
   "metadata": {},
   "source": [
    "Testing different scores"
   ]
  },
  {
   "cell_type": "code",
   "execution_count": null,
   "metadata": {},
   "outputs": [],
   "source": [
    "for x in [10]:\n",
    "    print('Testing x:', x)\n",
    "    merge_counts = []\n",
    "    train = partial(bxe_with_score.train, x=x, merge_counts=merge_counts, score_fn=bxe_with_score.default_score)\n",
    "    tokenize = partial(bxe_with_score.tokenize, x=x)\n",
    "    for vocab_size in [256 + 100]:\n",
    "        tokenized_text, vocab = train_and_test(train, tokenize, bxe_with_score.detokenize, r'data\\bible.txt', vocab_size)"
   ]
  },
  {
   "cell_type": "code",
   "execution_count": null,
   "metadata": {},
   "outputs": [],
   "source": [
    "def force_space_align_score(tup, count):\n",
    "    if tup[0] == ord(b' '): return 0\n",
    "    return (len(tup) - 1) * (count - 1)\n",
    "\n",
    "for x in [10]:\n",
    "    print('Testing x:', x)\n",
    "    merge_counts_space_align = []\n",
    "    train = partial(bxe_with_score.train, x=x, merge_counts=merge_counts_space_align, score_fn=force_space_align_score)\n",
    "    tokenize = partial(bxe_with_score.tokenize, x=x)\n",
    "    for vocab_size in [256 + 100]:\n",
    "        tokenized_text, vocab = train_and_test(train, tokenize, bxe_with_score.detokenize, r'data\\bible.txt', vocab_size)"
   ]
  },
  {
   "cell_type": "code",
   "execution_count": null,
   "metadata": {},
   "outputs": [],
   "source": [
    "[vocab[i] for i in range(256, 266)]"
   ]
  },
  {
   "cell_type": "code",
   "execution_count": null,
   "metadata": {},
   "outputs": [],
   "source": [
    "def force_space_align_score(tup, count):\n",
    "    if tup[0] == ord(b' '): return 0\n",
    "    return (len(tup) - 1) * (count - 1)\n",
    "\n",
    "for x in [2]:\n",
    "    print('Testing x:', x)\n",
    "    merge_counts_space_align = []\n",
    "    train = partial(bxe_with_score.train, x=x, merge_counts=merge_counts_space_align, score_fn=force_space_align_score)\n",
    "    tokenize = partial(bxe_with_score.tokenize, x=x)\n",
    "    for vocab_size in [256 + 100]:\n",
    "        tokenized_text, vocab = train_and_test(train, tokenize, bxe_with_score.detokenize, r'data\\bible.txt', vocab_size)"
   ]
  },
  {
   "cell_type": "code",
   "execution_count": null,
   "metadata": {},
   "outputs": [],
   "source": [
    "def force_space_align_score(tup, count):\n",
    "    if tup[0] == ord(b' '): return 0\n",
    "    return (len(tup) - 1) * (count - 1)\n",
    "\n",
    "for x in [2]:\n",
    "    print('Testing x:', x)\n",
    "    merge_counts_default = []\n",
    "    train = partial(bxe_with_score.train, x=x, merge_counts=merge_counts_default)\n",
    "    tokenize = partial(bxe_with_score.tokenize, x=x)\n",
    "    for vocab_size in [256 + 100]:\n",
    "        tokenized_text, vocab = train_and_test(train, tokenize, bxe_with_score.detokenize, r'data\\bible.txt', vocab_size)"
   ]
  },
  {
   "cell_type": "code",
   "execution_count": null,
   "metadata": {},
   "outputs": [],
   "source": []
  }
 ],
 "metadata": {
  "kernelspec": {
   "display_name": ".venv",
   "language": "python",
   "name": "python3"
  },
  "language_info": {
   "codemirror_mode": {
    "name": "ipython",
    "version": 3
   },
   "file_extension": ".py",
   "mimetype": "text/x-python",
   "name": "python",
   "nbconvert_exporter": "python",
   "pygments_lexer": "ipython3",
   "version": "3.12.3"
  }
 },
 "nbformat": 4,
 "nbformat_minor": 2
}
