{
 "cells": [
  {
   "cell_type": "code",
   "execution_count": 3,
   "metadata": {},
   "outputs": [],
   "source": [
    "import time\n",
    "from random import randint\n",
    "from collections import Counter\n",
    "from multiset import Multiset"
   ]
  },
  {
   "cell_type": "code",
   "execution_count": 4,
   "metadata": {},
   "outputs": [],
   "source": [
    "def timeit(f, name):\n",
    "    start = time.time()\n",
    "    res = f()\n",
    "    print(f'{name} took {time.time() - start:.2f} seconds.')\n",
    "    return res"
   ]
  },
  {
   "cell_type": "markdown",
   "metadata": {},
   "source": [
    "`Multiset` is comparable to `collections.Counter` for initialization, and updating, but MUCH faster for finding the most common element:"
   ]
  },
  {
   "cell_type": "code",
   "execution_count": 5,
   "metadata": {},
   "outputs": [
    {
     "name": "stdout",
     "output_type": "stream",
     "text": [
      "Counter init took 0.11 seconds.\n",
      "Multiset init took 0.11 seconds.\n"
     ]
    }
   ],
   "source": [
    "data = [randint(0, 100_000) for _ in range(1_000_000)]\n",
    "counter = timeit(lambda: Counter(data), 'Counter init')\n",
    "multiset = timeit(lambda: Multiset(data), 'Multiset init')\n",
    "\n",
    "def check():\n",
    "    for e, c in counter.items():\n",
    "        assert multiset.count(e) == c\n",
    "\n",
    "check()"
   ]
  },
  {
   "cell_type": "code",
   "execution_count": 6,
   "metadata": {},
   "outputs": [
    {
     "name": "stdout",
     "output_type": "stream",
     "text": [
      "Counter update took 0.08 seconds.\n",
      "Multiset update took 0.03 seconds.\n"
     ]
    }
   ],
   "source": [
    "to_add = {}\n",
    "for _ in range(20):\n",
    "    to_add[randint(0, 100_000)] = randint(1, 10)\n",
    "\n",
    "def update_counter(n = 10_000):\n",
    "    for _ in range(n):\n",
    "        counter.update(to_add)\n",
    "        counter.subtract(to_add)\n",
    "\n",
    "def update_multiset(n = 10_000):\n",
    "    for _ in range(n):\n",
    "        for e, c in to_add.items():\n",
    "            multiset.add(e, c)\n",
    "        for e, c in to_add.items():\n",
    "            multiset.remove(e, c)\n",
    "\n",
    "timeit(update_counter, 'Counter update')\n",
    "timeit(update_multiset, 'Multiset update')\n",
    "\n",
    "check()"
   ]
  },
  {
   "cell_type": "code",
   "execution_count": 7,
   "metadata": {},
   "outputs": [
    {
     "name": "stdout",
     "output_type": "stream",
     "text": [
      "Counter most_common took 26.46 seconds.\n",
      "Multiset most_common took 0.00 seconds.\n"
     ]
    }
   ],
   "source": [
    "def counter_most_common(n=10_000):\n",
    "    for _ in range(n):\n",
    "        counter.most_common(1)\n",
    "\n",
    "def multiset_most_common(n=10_000):\n",
    "    for _ in range(n):\n",
    "        multiset.most_common\n",
    "\n",
    "timeit(counter_most_common, 'Counter most_common')\n",
    "timeit(multiset_most_common, 'Multiset most_common')"
   ]
  },
  {
   "cell_type": "code",
   "execution_count": 10,
   "metadata": {},
   "outputs": [
    {
     "name": "stdout",
     "output_type": "stream",
     "text": [
      "counter_update_and_find_most_common took 25.76 seconds.\n",
      "multiset_update_and_find_most_common took 0.02 seconds.\n"
     ]
    }
   ],
   "source": [
    "# When intereweaving adverserial updates and most common searches we're still MUCH faster:\n",
    "\n",
    "def counter_update_and_find_most_common(n=10_000):\n",
    "    for _ in range(n):\n",
    "        counter['new top'] += 1000000\n",
    "        counter.most_common(1)\n",
    "        counter['new top'] -= 1000000\n",
    "\n",
    "def multiset_update_and_find_most_common(n=10_000):\n",
    "    for _ in range(n):\n",
    "        multiset.add('new top', 1000000)\n",
    "        multiset.most_common\n",
    "        multiset.remove('new top', 1000000)\n",
    "\n",
    "\n",
    "timeit(counter_update_and_find_most_common, 'counter_update_and_find_most_common')\n",
    "timeit(multiset_update_and_find_most_common, 'multiset_update_and_find_most_common')"
   ]
  }
 ],
 "metadata": {
  "kernelspec": {
   "display_name": ".venv",
   "language": "python",
   "name": "python3"
  },
  "language_info": {
   "codemirror_mode": {
    "name": "ipython",
    "version": 3
   },
   "file_extension": ".py",
   "mimetype": "text/x-python",
   "name": "python",
   "nbconvert_exporter": "python",
   "pygments_lexer": "ipython3",
   "version": "3.12.1"
  }
 },
 "nbformat": 4,
 "nbformat_minor": 2
}
