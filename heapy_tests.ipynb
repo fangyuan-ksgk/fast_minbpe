{
 "cells": [
  {
   "cell_type": "code",
   "execution_count": 1,
   "metadata": {},
   "outputs": [],
   "source": [
    "import random\n",
    "from heapy import Heapy\n",
    "\n",
    "def check_heap_cond(node):\n",
    "    if node is None: return\n",
    "    if node.l is not None:\n",
    "        assert node.l.value <= node.value\n",
    "        check_heap_cond(node.l)\n",
    "    if node.r is not None:\n",
    "        assert node.r.value <= node.value\n",
    "        check_heap_cond(node.r)\n",
    "\n",
    "def pprint(node, indent=0, prefix=''):\n",
    "    if node is None:\n",
    "        return\n",
    "    print(' ' * indent + prefix, node.value)\n",
    "    pprint(node.l, indent + 1, 'L')\n",
    "    pprint(node.r, indent + 1, 'R')"
   ]
  },
  {
   "cell_type": "code",
   "execution_count": 2,
   "metadata": {},
   "outputs": [
    {
     "name": "stdout",
     "output_type": "stream",
     "text": [
      "After insertion of 0:\n",
      "Root: 0\n",
      "Last: 0\n",
      " 0\n",
      "After insertion of 1:\n",
      "Root: 1\n",
      "Last: 0\n",
      " 1\n",
      " L 0\n",
      "After insertion of 2:\n",
      "Root: 2\n",
      "Last: 1\n",
      " 2\n",
      " L 0\n",
      " R 1\n",
      "After insertion of 3:\n",
      "Root: 3\n",
      "Last: 0\n",
      " 3\n",
      " L 2\n",
      "  L 0\n",
      " R 1\n"
     ]
    }
   ],
   "source": [
    "heapy = Heapy()\n",
    "\n",
    "for i in range(4):\n",
    "    heapy.insert(Heapy.Node(i))\n",
    "    print(f'After insertion of {i}:')\n",
    "    print(f'Root: {heapy.root.value}')\n",
    "    print(f'Last: {heapy.last.value}')\n",
    "    pprint(heapy.root)\n",
    "    check_heap_cond(heapy.root)"
   ]
  },
  {
   "cell_type": "code",
   "execution_count": 3,
   "metadata": {},
   "outputs": [],
   "source": [
    "heapy = Heapy()\n",
    "\n",
    "for i in range(50):\n",
    "    heapy.insert(Heapy.Node(i))\n",
    "    check_heap_cond(heapy.root)"
   ]
  },
  {
   "cell_type": "code",
   "execution_count": 4,
   "metadata": {},
   "outputs": [],
   "source": [
    "heapy = Heapy()\n",
    "\n",
    "for i in reversed(range(50)):\n",
    "    heapy.insert(Heapy.Node(i))\n",
    "    check_heap_cond(heapy.root)"
   ]
  },
  {
   "cell_type": "code",
   "execution_count": 5,
   "metadata": {},
   "outputs": [],
   "source": [
    "heapy = Heapy()\n",
    "\n",
    "for i in [42] * 10:\n",
    "    heapy.insert(Heapy.Node(i))\n",
    "    check_heap_cond(heapy.root)"
   ]
  },
  {
   "cell_type": "code",
   "execution_count": 6,
   "metadata": {},
   "outputs": [],
   "source": [
    "heapy = Heapy()\n",
    "\n",
    "random.seed(42)\n",
    "\n",
    "l = [random.randint(0, 1000) for _ in range(1000)]\n",
    "\n",
    "for x in l:\n",
    "    heapy.insert(Heapy.Node(x))\n",
    "    check_heap_cond(heapy.root)\n",
    "\n",
    "heapy_sorted = []\n",
    "for _ in range(1000):\n",
    "    heapy_sorted.append(heapy.root.value)\n",
    "    heapy.root.value = 0\n",
    "    heapy.handle_decrease(heapy.root)\n",
    "\n",
    "assert heapy_sorted == sorted(l, reverse=True)"
   ]
  }
 ],
 "metadata": {
  "kernelspec": {
   "display_name": ".venv",
   "language": "python",
   "name": "python3"
  },
  "language_info": {
   "codemirror_mode": {
    "name": "ipython",
    "version": 3
   },
   "file_extension": ".py",
   "mimetype": "text/x-python",
   "name": "python",
   "nbconvert_exporter": "python",
   "pygments_lexer": "ipython3",
   "version": "3.12.1"
  }
 },
 "nbformat": 4,
 "nbformat_minor": 2
}
